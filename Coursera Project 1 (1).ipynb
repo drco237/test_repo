{
 "cells": [
  {
   "cell_type": "markdown",
   "id": "dd8dac82-c448-49ad-9465-847ccc933b46",
   "metadata": {},
   "source": [
    "# My Jupyter Notebook on IBM Watson Studio\n",
    "\n",
    "__Dan Cooper__\n",
    "\n",
    "Risk Analyst\n",
    "\n",
    "_I am interested in data science because I believe that it is a field in high demand_.\n",
    "\n",
    "The code in the below line calculates the equation 1+1"
   ]
  },
  {
   "cell_type": "code",
   "execution_count": 1,
   "id": "b7c46a11-373c-436b-8c44-6d00a285ec9f",
   "metadata": {},
   "outputs": [
    {
     "data": {
      "text/plain": [
       "2"
      ]
     },
     "execution_count": 1,
     "metadata": {},
     "output_type": "execute_result"
    }
   ],
   "source": [
    "1+1"
   ]
  },
  {
   "cell_type": "markdown",
   "id": "f4e540f4-02fc-4e79-81bc-9468adfb6b3c",
   "metadata": {},
   "source": [
    "|__Three Things I Love To Do__|\n",
    "|-----|\n",
    "|1. Swim|\n",
    "|2. Watch movies|\n",
    "|3. Ski|\n",
    " - in the Appalachian Mtns\n",
    " - in the Rockies\n",
    " - in the French Alps\n",
    "\n",
    "\n"
   ]
  },
  {
   "cell_type": "code",
   "execution_count": null,
   "id": "f6fccbf2-2d95-451a-95d1-3203139b1070",
   "metadata": {},
   "outputs": [],
   "source": []
  }
 ],
 "metadata": {
  "kernelspec": {
   "display_name": "Python 3 (ipykernel)",
   "language": "python",
   "name": "python3"
  },
  "language_info": {
   "codemirror_mode": {
    "name": "ipython",
    "version": 3
   },
   "file_extension": ".py",
   "mimetype": "text/x-python",
   "name": "python",
   "nbconvert_exporter": "python",
   "pygments_lexer": "ipython3",
   "version": "3.9.13"
  }
 },
 "nbformat": 4,
 "nbformat_minor": 5
}
